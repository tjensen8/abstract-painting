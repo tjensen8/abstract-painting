{
 "metadata": {
  "language_info": {
   "codemirror_mode": {
    "name": "ipython",
    "version": 3
   },
   "file_extension": ".py",
   "mimetype": "text/x-python",
   "name": "python",
   "nbconvert_exporter": "python",
   "pygments_lexer": "ipython3",
   "version": "3.8.10"
  },
  "orig_nbformat": 2,
  "kernelspec": {
   "name": "python3810jvsc74a57bd01cb2c44d0c7a0c38a82c0b196efdf2cc57a6cede36c8aaadcfb59517779f18e3",
   "display_name": "Python 3.8.10 64-bit ('abstract-painting': conda)"
  }
 },
 "nbformat": 4,
 "nbformat_minor": 2,
 "cells": [
  {
   "source": [
    "## Modeling"
   ],
   "cell_type": "markdown",
   "metadata": {}
  },
  {
   "cell_type": "code",
   "execution_count": 1,
   "metadata": {},
   "outputs": [],
   "source": [
    "import yaml \n",
    "import numpy \n",
    "import tensorflow as tf\n",
    "from tensorflow import keras\n",
    "from tensorflow.keras import layers"
   ]
  },
  {
   "cell_type": "code",
   "execution_count": 2,
   "metadata": {},
   "outputs": [],
   "source": [
    "import numpy as np\n",
    "from tensorflow.keras.preprocessing.image import DirectoryIterator, ImageDataGenerator\n",
    "import os"
   ]
  },
  {
   "cell_type": "code",
   "execution_count": 3,
   "metadata": {},
   "outputs": [],
   "source": [
    "def load_config():\n",
    "    with open('D:\\\\ProgrammingD\\\\github\\\\abstract-painting\\\\src\\\\resources\\\\config.yml') as f:\n",
    "        try:\n",
    "            config = yaml.safe_load(f)\n",
    "            print(\"Config Loaded Successfully\")\n",
    "            return config\n",
    "        except Exception as e:\n",
    "            print(e)\n",
    "            return \"\""
   ]
  },
  {
   "cell_type": "code",
   "execution_count": 4,
   "metadata": {},
   "outputs": [
    {
     "output_type": "stream",
     "name": "stdout",
     "text": [
      "Config Loaded Successfully\n"
     ]
    }
   ],
   "source": [
    "config = load_config()"
   ]
  },
  {
   "cell_type": "code",
   "execution_count": 5,
   "metadata": {},
   "outputs": [],
   "source": [
    "def iterate_in_directory(directory=None, save_to_dir=None):\n",
    "    \n",
    "    if directory==None:\n",
    "        print(\"loading directory from config...\")\n",
    "        print(config['RAW_IMG_DIR'])\n",
    "        directory = config['RAW_IMG_DIR']\n",
    "    if save_to_dir==None:\n",
    "        print(\"preprocessed images will be saved to (per config)...\")\n",
    "        if config['PREPROCESSED_IMG_DIR']==None:\n",
    "            print(\"Images will not be saved to a directory\")\n",
    "        else: print(config['PREPROCESSED_IMG_DIR'])\n",
    "        save_to_dir = config['PREPROCESSED_IMG_DIR']\n",
    "    \n",
    "    idg = ImageDataGenerator(samplewise_center=True)\n",
    "\n",
    "    \"\"\"\n",
    "    directory_iterator = DirectoryIterator(\n",
    "        directory=directory,\n",
    "        image_data_generator=idg,\n",
    "        target_size=(config['IMAGE_PARAMS']['IMAGE_HEIGHT'],config['IMAGE_PARAMS']['IMAGE_WIDTH']),\n",
    "        classes=None,\n",
    "        seed=0,\n",
    "        save_to_dir=save_to_dir\n",
    "        )\n",
    "    \"\"\"\n",
    "    # image generator to flow from directory\n",
    "    idg = idg.flow_from_directory(\n",
    "        directory=directory,\n",
    "        target_size=(config['IMAGE_PARAMS']['IMAGE_HEIGHT'],config['IMAGE_PARAMS']['IMAGE_WIDTH']),\n",
    "        batch_size=1\n",
    "        )\n",
    "\n",
    "    return idg"
   ]
  },
  {
   "cell_type": "code",
   "execution_count": 6,
   "metadata": {},
   "outputs": [
    {
     "output_type": "execute_result",
     "data": {
      "text/plain": [
       "'d:\\\\ProgrammingD\\\\github\\\\abstract-painting\\\\notebooks\\\\model-example'"
      ]
     },
     "metadata": {},
     "execution_count": 6
    }
   ],
   "source": [
    "os.getcwd()"
   ]
  },
  {
   "cell_type": "code",
   "execution_count": 7,
   "metadata": {},
   "outputs": [
    {
     "output_type": "stream",
     "name": "stdout",
     "text": [
      "preprocessed images will be saved to (per config)...\n..\\data\\processed\nFound 103 images belonging to 1 classes.\n"
     ]
    }
   ],
   "source": [
    "generator = iterate_in_directory(directory='D:\\\\ProgrammingD\\\\github\\\\abstract-painting\\\\data\\\\raw', save_to_dir=None)"
   ]
  },
  {
   "cell_type": "code",
   "execution_count": 8,
   "metadata": {},
   "outputs": [],
   "source": [
    "import glob\n",
    "import matplotlib.pyplot as plt\n",
    "import cv2\n",
    "from sklearn.preprocessing import StandardScaler"
   ]
  },
  {
   "cell_type": "code",
   "execution_count": 9,
   "metadata": {},
   "outputs": [
    {
     "output_type": "stream",
     "name": "stdout",
     "text": [
      "Image 0\n",
      "...complete\n",
      "Image 1\n",
      "...complete\n",
      "Image 2\n",
      "...complete\n",
      "Image 3\n",
      "...complete\n",
      "Image 4\n",
      "...complete\n",
      "Image 5\n",
      "...complete\n",
      "Image 6\n",
      "...complete\n",
      "Image 7\n",
      "...complete\n",
      "Image 8\n",
      "...complete\n",
      "Image 9\n",
      "...complete\n",
      "Image 10\n",
      "...complete\n",
      "Image 11\n",
      "...complete\n",
      "Image 12\n",
      "...complete\n",
      "Image 13\n",
      "...complete\n",
      "Image 14\n",
      "...complete\n",
      "Image 15\n",
      "...complete\n",
      "Image 16\n",
      "...complete\n",
      "Image 17\n",
      "...complete\n",
      "Image 18\n",
      "...complete\n",
      "Image 19\n",
      "...complete\n",
      "Image 20\n",
      "...complete\n",
      "Image 21\n",
      "...complete\n",
      "Image 22\n",
      "...complete\n",
      "Image 23\n",
      "...complete\n",
      "Image 24\n",
      "...complete\n",
      "Image 25\n",
      "...complete\n",
      "Image 26\n",
      "...complete\n",
      "Image 27\n",
      "...complete\n",
      "Image 28\n",
      "...complete\n",
      "Image 29\n",
      "...complete\n",
      "Image 30\n",
      "...complete\n",
      "Image 31\n",
      "...complete\n",
      "Image 32\n",
      "...complete\n",
      "Image 33\n",
      "...complete\n",
      "Image 34\n",
      "...complete\n",
      "Image 35\n",
      "...complete\n",
      "Image 36\n",
      "...complete\n",
      "Image 37\n",
      "...complete\n",
      "Image 38\n",
      "...complete\n",
      "Image 39\n",
      "...complete\n",
      "Image 40\n",
      "...complete\n",
      "Image 41\n",
      "...complete\n",
      "Image 42\n",
      "...complete\n",
      "Image 43\n",
      "...complete\n",
      "Image 44\n",
      "...complete\n",
      "Image 45\n",
      "...complete\n",
      "Image 46\n",
      "...complete\n",
      "Image 47\n",
      "...complete\n",
      "Image 48\n",
      "...complete\n",
      "Image 49\n",
      "...complete\n",
      "Image 50\n",
      "...complete\n",
      "Image 51\n",
      "...complete\n",
      "Image 52\n",
      "...complete\n",
      "Image 53\n",
      "...complete\n",
      "Image 54\n",
      "...complete\n",
      "Image 55\n",
      "...complete\n",
      "Image 56\n",
      "...complete\n",
      "Image 57\n",
      "...complete\n",
      "Image 58\n",
      "...complete\n",
      "Image 59\n",
      "...complete\n",
      "Image 60\n",
      "...complete\n",
      "Image 61\n",
      "...complete\n",
      "Image 62\n",
      "...complete\n",
      "Image 63\n",
      "...complete\n",
      "Image 64\n",
      "...complete\n",
      "Image 65\n",
      "...complete\n",
      "Image 66\n",
      "...complete\n",
      "Image 67\n",
      "...complete\n",
      "Image 68\n",
      "...complete\n",
      "Image 69\n",
      "...complete\n",
      "Image 70\n",
      "...complete\n",
      "Image 71\n",
      "...complete\n",
      "Image 72\n",
      "...complete\n",
      "Image 73\n",
      "...complete\n",
      "Image 74\n",
      "...complete\n",
      "Image 75\n",
      "...complete\n",
      "Image 76\n",
      "...complete\n",
      "Image 77\n",
      "...complete\n",
      "Image 78\n",
      "...complete\n",
      "Image 79\n",
      "...complete\n",
      "Image 80\n",
      "...complete\n",
      "Image 81\n",
      "...complete\n",
      "Image 82\n",
      "...complete\n",
      "Image 83\n",
      "...complete\n",
      "Image 84\n",
      "...complete\n",
      "Image 85\n",
      "...complete\n",
      "Image 86\n",
      "...complete\n",
      "Image 87\n",
      "...complete\n",
      "Image 88\n",
      "...complete\n",
      "Image 89\n",
      "...complete\n",
      "Image 90\n",
      "...complete\n",
      "Image 91\n",
      "...complete\n",
      "Image 92\n",
      "...complete\n",
      "Image 93\n",
      "...complete\n",
      "Image 94\n",
      "...complete\n",
      "Image 95\n",
      "...complete\n",
      "Image 96\n",
      "...complete\n",
      "Image 97\n",
      "...complete\n",
      "Image 98\n",
      "...complete\n",
      "Image 99\n",
      "...complete\n",
      "Image 100\n",
      "...complete\n",
      "Image 101\n",
      "...complete\n",
      "Image 102\n",
      "...complete\n"
     ]
    }
   ],
   "source": [
    "img_dir = 'D:\\\\ProgrammingD\\\\github\\\\abstract-painting\\\\data\\\\raw\\\\img\\\\'\n",
    "def preprocess_images(resize_height, resize_width, show=False):\n",
    "\n",
    "    images = []\n",
    "    counter = 0\n",
    "    for f in glob.glob(f'{img_dir}*.jpg'):\n",
    "        print(f\"Image {counter}\")\n",
    "        img = cv2.imread(f)\n",
    "        new_img = cv2.resize(img, (resize_height,resize_width))\n",
    "        \n",
    "        if show==True:\n",
    "            plt.imshow(new_img)\n",
    "            plt.show()\n",
    "\n",
    "        #plt.imsave(f'./images_processed/train/{counter}.jpg', new_img)\n",
    "        cv2.waitKey(0)\n",
    "\n",
    "        #save as np array and add to array\n",
    "        img_np = np.asarray(new_img) / 255.\n",
    "        images.append(img_np)\n",
    "\n",
    "        print(f\"...complete\")\n",
    "        counter += 1\n",
    "    images = np.array(images)\n",
    "    return images\n",
    "\n",
    "data = preprocess_images(480,720, show=False)"
   ]
  },
  {
   "cell_type": "code",
   "execution_count": 10,
   "metadata": {},
   "outputs": [
    {
     "output_type": "execute_result",
     "data": {
      "text/plain": [
       "(103, 720, 480, 3)"
      ]
     },
     "metadata": {},
     "execution_count": 10
    }
   ],
   "source": [
    "data.shape"
   ]
  },
  {
   "cell_type": "code",
   "execution_count": 124,
   "metadata": {},
   "outputs": [],
   "source": []
  },
  {
   "cell_type": "code",
   "execution_count": 11,
   "metadata": {},
   "outputs": [],
   "source": [
    "data_32 = data.astype(np.float32)"
   ]
  },
  {
   "cell_type": "code",
   "execution_count": null,
   "metadata": {},
   "outputs": [],
   "source": []
  },
  {
   "cell_type": "code",
   "execution_count": 12,
   "metadata": {},
   "outputs": [],
   "source": [
    "encoder = keras.Sequential(\n",
    "    [\n",
    "        #layers.Conv2D(64, kernel_size=3, activation='relu'),\n",
    "        #layers.MaxPool2D(),\n",
    "        layers.Conv2D(32, kernel_size=3, activation='relu', padding='same'),\n",
    "        layers.MaxPool2D(),\n",
    "        layers.Conv2D(24, kernel_size=3, activation='relu', padding='same'),\n",
    "        layers.MaxPool2D()\n",
    "    ]\n",
    ")\n",
    "\n",
    "decoder = keras.Sequential(\n",
    "    [\n",
    "        layers.Conv2DTranspose(5, kernel_size=3, strides = 2, activation='relu', padding='same'),\n",
    "        layers.Conv2DTranspose(64, kernel_size=3, strides = 2, activation='relu', padding='same'),\n",
    "        #layers.Conv2D(32, kernel_size=3, activation='relu'),\n",
    "        #layers.UpSampling2D(),\n",
    "        layers.Conv2D(10, kernel_size=3, activation='relu'),\n",
    "        layers.Conv2D(3, kernel_size=3, activation='sigmoid')\n",
    "    ]\n",
    ")\n",
    "\n",
    "\n",
    "model = keras.models.Sequential([\n",
    "        #contract\n",
    "        layers.Conv2D(64, kernel_size=3, activation='relu'),\n",
    "        layers.MaxPool2D(),\n",
    "        layers.Conv2D(32, kernel_size=3, activation='relu', padding='same'),\n",
    "        layers.MaxPool2D(),\n",
    "        layers.Conv2D(24, kernel_size=3, activation='relu', padding='same'),\n",
    "        layers.MaxPool2D(),\n",
    "        # expand\n",
    "        layers.Conv2DTranspose(24, kernel_size=3, strides=2, activation='relu', padding='same'),\n",
    "        layers.Conv2DTranspose(32, kernel_size=3, strides=2, activation='relu', padding='same'),\n",
    "        layers.Conv2DTranspose(64, kernel_size=3, strides=2, activation='relu', padding='same'),\n",
    "        layers.Conv2D(3, kernel_size=3, activation='relu', padding='same')\n",
    "        #layers.Conv2D(32, kernel_size=3, activation='relu'),\n",
    "        #layers.UpSampling2D(),\n",
    "        #layers.Conv2D(10, kernel_size=3, activation='relu'),\n",
    "        #layers.Conv2D(3, kernel_size=3, activation='sigmoid')\n",
    "])"
   ]
  },
  {
   "cell_type": "code",
   "execution_count": 13,
   "metadata": {},
   "outputs": [],
   "source": [
    "loss = tf.keras.losses.MeanSquaredError(reduction=\"auto\", name=\"mean_squared_error\")\n",
    "model.compile(optimizer='adam', loss=loss, metrics=['mse'])"
   ]
  },
  {
   "cell_type": "code",
   "execution_count": 14,
   "metadata": {},
   "outputs": [
    {
     "output_type": "stream",
     "name": "stdout",
     "text": [
      "Epoch 1/10\n"
     ]
    },
    {
     "output_type": "error",
     "ename": "ValueError",
     "evalue": "in user code:\n\n    C:\\Users\\Taylor Jensen\\anaconda3\\envs\\abstract-painting\\lib\\site-packages\\tensorflow\\python\\keras\\engine\\training.py:855 train_function  *\n        return step_function(self, iterator)\n    C:\\Users\\Taylor Jensen\\anaconda3\\envs\\abstract-painting\\lib\\site-packages\\tensorflow\\python\\keras\\engine\\training.py:845 step_function  **\n        outputs = model.distribute_strategy.run(run_step, args=(data,))\n    C:\\Users\\Taylor Jensen\\anaconda3\\envs\\abstract-painting\\lib\\site-packages\\tensorflow\\python\\distribute\\distribute_lib.py:1285 run\n        return self._extended.call_for_each_replica(fn, args=args, kwargs=kwargs)\n    C:\\Users\\Taylor Jensen\\anaconda3\\envs\\abstract-painting\\lib\\site-packages\\tensorflow\\python\\distribute\\distribute_lib.py:2833 call_for_each_replica\n        return self._call_for_each_replica(fn, args, kwargs)\n    C:\\Users\\Taylor Jensen\\anaconda3\\envs\\abstract-painting\\lib\\site-packages\\tensorflow\\python\\distribute\\distribute_lib.py:3608 _call_for_each_replica\n        return fn(*args, **kwargs)\n    C:\\Users\\Taylor Jensen\\anaconda3\\envs\\abstract-painting\\lib\\site-packages\\tensorflow\\python\\keras\\engine\\training.py:838 run_step  **\n        outputs = model.train_step(data)\n    C:\\Users\\Taylor Jensen\\anaconda3\\envs\\abstract-painting\\lib\\site-packages\\tensorflow\\python\\keras\\engine\\training.py:796 train_step\n        loss = self.compiled_loss(\n    C:\\Users\\Taylor Jensen\\anaconda3\\envs\\abstract-painting\\lib\\site-packages\\tensorflow\\python\\keras\\engine\\compile_utils.py:204 __call__\n        loss_value = loss_obj(y_t, y_p, sample_weight=sw)\n    C:\\Users\\Taylor Jensen\\anaconda3\\envs\\abstract-painting\\lib\\site-packages\\tensorflow\\python\\keras\\losses.py:155 __call__\n        losses = call_fn(y_true, y_pred)\n    C:\\Users\\Taylor Jensen\\anaconda3\\envs\\abstract-painting\\lib\\site-packages\\tensorflow\\python\\keras\\losses.py:259 call  **\n        return ag_fn(y_true, y_pred, **self._fn_kwargs)\n    C:\\Users\\Taylor Jensen\\anaconda3\\envs\\abstract-painting\\lib\\site-packages\\tensorflow\\python\\util\\dispatch.py:206 wrapper\n        return target(*args, **kwargs)\n    C:\\Users\\Taylor Jensen\\anaconda3\\envs\\abstract-painting\\lib\\site-packages\\tensorflow\\python\\keras\\losses.py:1215 mean_squared_error\n        return backend.mean(math_ops.squared_difference(y_pred, y_true), axis=-1)\n    C:\\Users\\Taylor Jensen\\anaconda3\\envs\\abstract-painting\\lib\\site-packages\\tensorflow\\python\\ops\\gen_math_ops.py:10421 squared_difference\n        _, _, _op, _outputs = _op_def_library._apply_op_helper(\n    C:\\Users\\Taylor Jensen\\anaconda3\\envs\\abstract-painting\\lib\\site-packages\\tensorflow\\python\\framework\\op_def_library.py:748 _apply_op_helper\n        op = g._create_op_internal(op_type_name, inputs, dtypes=None,\n    C:\\Users\\Taylor Jensen\\anaconda3\\envs\\abstract-painting\\lib\\site-packages\\tensorflow\\python\\framework\\func_graph.py:599 _create_op_internal\n        return super(FuncGraph, self)._create_op_internal(  # pylint: disable=protected-access\n    C:\\Users\\Taylor Jensen\\anaconda3\\envs\\abstract-painting\\lib\\site-packages\\tensorflow\\python\\framework\\ops.py:3557 _create_op_internal\n        ret = Operation(\n    C:\\Users\\Taylor Jensen\\anaconda3\\envs\\abstract-painting\\lib\\site-packages\\tensorflow\\python\\framework\\ops.py:2041 __init__\n        self._c_op = _create_c_op(self._graph, node_def, inputs,\n    C:\\Users\\Taylor Jensen\\anaconda3\\envs\\abstract-painting\\lib\\site-packages\\tensorflow\\python\\framework\\ops.py:1883 _create_c_op\n        raise ValueError(str(e))\n\n    ValueError: Dimensions must be equal, but are 712 and 720 for '{{node mean_squared_error/SquaredDifference}} = SquaredDifference[T=DT_FLOAT](sequential_2/conv2d_7/Relu, IteratorGetNext:1)' with input shapes: [?,712,472,3], [?,720,480,3].\n",
     "traceback": [
      "\u001b[1;31m---------------------------------------------------------------------------\u001b[0m",
      "\u001b[1;31mValueError\u001b[0m                                Traceback (most recent call last)",
      "\u001b[1;32m<ipython-input-14-35a54a8ff082>\u001b[0m in \u001b[0;36m<module>\u001b[1;34m\u001b[0m\n\u001b[0;32m      1\u001b[0m \u001b[1;31m#model.build(input_shape=[1,720,480,3])\u001b[0m\u001b[1;33m\u001b[0m\u001b[1;33m\u001b[0m\u001b[1;33m\u001b[0m\u001b[0m\n\u001b[0;32m      2\u001b[0m \u001b[1;31m#model.summary()\u001b[0m\u001b[1;33m\u001b[0m\u001b[1;33m\u001b[0m\u001b[1;33m\u001b[0m\u001b[0m\n\u001b[1;32m----> 3\u001b[1;33m \u001b[0mmodel\u001b[0m\u001b[1;33m.\u001b[0m\u001b[0mfit\u001b[0m\u001b[1;33m(\u001b[0m\u001b[0mx\u001b[0m\u001b[1;33m=\u001b[0m\u001b[0mdata_32\u001b[0m\u001b[1;33m,\u001b[0m \u001b[0my\u001b[0m\u001b[1;33m=\u001b[0m\u001b[0mdata_32\u001b[0m\u001b[1;33m,\u001b[0m \u001b[0mepochs\u001b[0m\u001b[1;33m=\u001b[0m\u001b[1;36m10\u001b[0m\u001b[1;33m,\u001b[0m \u001b[0mbatch_size\u001b[0m\u001b[1;33m=\u001b[0m\u001b[1;36m32\u001b[0m\u001b[1;33m)\u001b[0m\u001b[1;33m\u001b[0m\u001b[1;33m\u001b[0m\u001b[0m\n\u001b[0m",
      "\u001b[1;32m~\\anaconda3\\envs\\abstract-painting\\lib\\site-packages\\tensorflow\\python\\keras\\engine\\training.py\u001b[0m in \u001b[0;36mfit\u001b[1;34m(self, x, y, batch_size, epochs, verbose, callbacks, validation_split, validation_data, shuffle, class_weight, sample_weight, initial_epoch, steps_per_epoch, validation_steps, validation_batch_size, validation_freq, max_queue_size, workers, use_multiprocessing)\u001b[0m\n\u001b[0;32m   1181\u001b[0m                 _r=1):\n\u001b[0;32m   1182\u001b[0m               \u001b[0mcallbacks\u001b[0m\u001b[1;33m.\u001b[0m\u001b[0mon_train_batch_begin\u001b[0m\u001b[1;33m(\u001b[0m\u001b[0mstep\u001b[0m\u001b[1;33m)\u001b[0m\u001b[1;33m\u001b[0m\u001b[1;33m\u001b[0m\u001b[0m\n\u001b[1;32m-> 1183\u001b[1;33m               \u001b[0mtmp_logs\u001b[0m \u001b[1;33m=\u001b[0m \u001b[0mself\u001b[0m\u001b[1;33m.\u001b[0m\u001b[0mtrain_function\u001b[0m\u001b[1;33m(\u001b[0m\u001b[0miterator\u001b[0m\u001b[1;33m)\u001b[0m\u001b[1;33m\u001b[0m\u001b[1;33m\u001b[0m\u001b[0m\n\u001b[0m\u001b[0;32m   1184\u001b[0m               \u001b[1;32mif\u001b[0m \u001b[0mdata_handler\u001b[0m\u001b[1;33m.\u001b[0m\u001b[0mshould_sync\u001b[0m\u001b[1;33m:\u001b[0m\u001b[1;33m\u001b[0m\u001b[1;33m\u001b[0m\u001b[0m\n\u001b[0;32m   1185\u001b[0m                 \u001b[0mcontext\u001b[0m\u001b[1;33m.\u001b[0m\u001b[0masync_wait\u001b[0m\u001b[1;33m(\u001b[0m\u001b[1;33m)\u001b[0m\u001b[1;33m\u001b[0m\u001b[1;33m\u001b[0m\u001b[0m\n",
      "\u001b[1;32m~\\anaconda3\\envs\\abstract-painting\\lib\\site-packages\\tensorflow\\python\\eager\\def_function.py\u001b[0m in \u001b[0;36m__call__\u001b[1;34m(self, *args, **kwds)\u001b[0m\n\u001b[0;32m    887\u001b[0m \u001b[1;33m\u001b[0m\u001b[0m\n\u001b[0;32m    888\u001b[0m       \u001b[1;32mwith\u001b[0m \u001b[0mOptionalXlaContext\u001b[0m\u001b[1;33m(\u001b[0m\u001b[0mself\u001b[0m\u001b[1;33m.\u001b[0m\u001b[0m_jit_compile\u001b[0m\u001b[1;33m)\u001b[0m\u001b[1;33m:\u001b[0m\u001b[1;33m\u001b[0m\u001b[1;33m\u001b[0m\u001b[0m\n\u001b[1;32m--> 889\u001b[1;33m         \u001b[0mresult\u001b[0m \u001b[1;33m=\u001b[0m \u001b[0mself\u001b[0m\u001b[1;33m.\u001b[0m\u001b[0m_call\u001b[0m\u001b[1;33m(\u001b[0m\u001b[1;33m*\u001b[0m\u001b[0margs\u001b[0m\u001b[1;33m,\u001b[0m \u001b[1;33m**\u001b[0m\u001b[0mkwds\u001b[0m\u001b[1;33m)\u001b[0m\u001b[1;33m\u001b[0m\u001b[1;33m\u001b[0m\u001b[0m\n\u001b[0m\u001b[0;32m    890\u001b[0m \u001b[1;33m\u001b[0m\u001b[0m\n\u001b[0;32m    891\u001b[0m       \u001b[0mnew_tracing_count\u001b[0m \u001b[1;33m=\u001b[0m \u001b[0mself\u001b[0m\u001b[1;33m.\u001b[0m\u001b[0mexperimental_get_tracing_count\u001b[0m\u001b[1;33m(\u001b[0m\u001b[1;33m)\u001b[0m\u001b[1;33m\u001b[0m\u001b[1;33m\u001b[0m\u001b[0m\n",
      "\u001b[1;32m~\\anaconda3\\envs\\abstract-painting\\lib\\site-packages\\tensorflow\\python\\eager\\def_function.py\u001b[0m in \u001b[0;36m_call\u001b[1;34m(self, *args, **kwds)\u001b[0m\n\u001b[0;32m    931\u001b[0m       \u001b[1;31m# This is the first call of __call__, so we have to initialize.\u001b[0m\u001b[1;33m\u001b[0m\u001b[1;33m\u001b[0m\u001b[1;33m\u001b[0m\u001b[0m\n\u001b[0;32m    932\u001b[0m       \u001b[0minitializers\u001b[0m \u001b[1;33m=\u001b[0m \u001b[1;33m[\u001b[0m\u001b[1;33m]\u001b[0m\u001b[1;33m\u001b[0m\u001b[1;33m\u001b[0m\u001b[0m\n\u001b[1;32m--> 933\u001b[1;33m       \u001b[0mself\u001b[0m\u001b[1;33m.\u001b[0m\u001b[0m_initialize\u001b[0m\u001b[1;33m(\u001b[0m\u001b[0margs\u001b[0m\u001b[1;33m,\u001b[0m \u001b[0mkwds\u001b[0m\u001b[1;33m,\u001b[0m \u001b[0madd_initializers_to\u001b[0m\u001b[1;33m=\u001b[0m\u001b[0minitializers\u001b[0m\u001b[1;33m)\u001b[0m\u001b[1;33m\u001b[0m\u001b[1;33m\u001b[0m\u001b[0m\n\u001b[0m\u001b[0;32m    934\u001b[0m     \u001b[1;32mfinally\u001b[0m\u001b[1;33m:\u001b[0m\u001b[1;33m\u001b[0m\u001b[1;33m\u001b[0m\u001b[0m\n\u001b[0;32m    935\u001b[0m       \u001b[1;31m# At this point we know that the initialization is complete (or less\u001b[0m\u001b[1;33m\u001b[0m\u001b[1;33m\u001b[0m\u001b[1;33m\u001b[0m\u001b[0m\n",
      "\u001b[1;32m~\\anaconda3\\envs\\abstract-painting\\lib\\site-packages\\tensorflow\\python\\eager\\def_function.py\u001b[0m in \u001b[0;36m_initialize\u001b[1;34m(self, args, kwds, add_initializers_to)\u001b[0m\n\u001b[0;32m    761\u001b[0m     \u001b[0mself\u001b[0m\u001b[1;33m.\u001b[0m\u001b[0m_graph_deleter\u001b[0m \u001b[1;33m=\u001b[0m \u001b[0mFunctionDeleter\u001b[0m\u001b[1;33m(\u001b[0m\u001b[0mself\u001b[0m\u001b[1;33m.\u001b[0m\u001b[0m_lifted_initializer_graph\u001b[0m\u001b[1;33m)\u001b[0m\u001b[1;33m\u001b[0m\u001b[1;33m\u001b[0m\u001b[0m\n\u001b[0;32m    762\u001b[0m     self._concrete_stateful_fn = (\n\u001b[1;32m--> 763\u001b[1;33m         self._stateful_fn._get_concrete_function_internal_garbage_collected(  # pylint: disable=protected-access\n\u001b[0m\u001b[0;32m    764\u001b[0m             *args, **kwds))\n\u001b[0;32m    765\u001b[0m \u001b[1;33m\u001b[0m\u001b[0m\n",
      "\u001b[1;32m~\\anaconda3\\envs\\abstract-painting\\lib\\site-packages\\tensorflow\\python\\eager\\function.py\u001b[0m in \u001b[0;36m_get_concrete_function_internal_garbage_collected\u001b[1;34m(self, *args, **kwargs)\u001b[0m\n\u001b[0;32m   3048\u001b[0m       \u001b[0margs\u001b[0m\u001b[1;33m,\u001b[0m \u001b[0mkwargs\u001b[0m \u001b[1;33m=\u001b[0m \u001b[1;32mNone\u001b[0m\u001b[1;33m,\u001b[0m \u001b[1;32mNone\u001b[0m\u001b[1;33m\u001b[0m\u001b[1;33m\u001b[0m\u001b[0m\n\u001b[0;32m   3049\u001b[0m     \u001b[1;32mwith\u001b[0m \u001b[0mself\u001b[0m\u001b[1;33m.\u001b[0m\u001b[0m_lock\u001b[0m\u001b[1;33m:\u001b[0m\u001b[1;33m\u001b[0m\u001b[1;33m\u001b[0m\u001b[0m\n\u001b[1;32m-> 3050\u001b[1;33m       \u001b[0mgraph_function\u001b[0m\u001b[1;33m,\u001b[0m \u001b[0m_\u001b[0m \u001b[1;33m=\u001b[0m \u001b[0mself\u001b[0m\u001b[1;33m.\u001b[0m\u001b[0m_maybe_define_function\u001b[0m\u001b[1;33m(\u001b[0m\u001b[0margs\u001b[0m\u001b[1;33m,\u001b[0m \u001b[0mkwargs\u001b[0m\u001b[1;33m)\u001b[0m\u001b[1;33m\u001b[0m\u001b[1;33m\u001b[0m\u001b[0m\n\u001b[0m\u001b[0;32m   3051\u001b[0m     \u001b[1;32mreturn\u001b[0m \u001b[0mgraph_function\u001b[0m\u001b[1;33m\u001b[0m\u001b[1;33m\u001b[0m\u001b[0m\n\u001b[0;32m   3052\u001b[0m \u001b[1;33m\u001b[0m\u001b[0m\n",
      "\u001b[1;32m~\\anaconda3\\envs\\abstract-painting\\lib\\site-packages\\tensorflow\\python\\eager\\function.py\u001b[0m in \u001b[0;36m_maybe_define_function\u001b[1;34m(self, args, kwargs)\u001b[0m\n\u001b[0;32m   3442\u001b[0m \u001b[1;33m\u001b[0m\u001b[0m\n\u001b[0;32m   3443\u001b[0m           \u001b[0mself\u001b[0m\u001b[1;33m.\u001b[0m\u001b[0m_function_cache\u001b[0m\u001b[1;33m.\u001b[0m\u001b[0mmissed\u001b[0m\u001b[1;33m.\u001b[0m\u001b[0madd\u001b[0m\u001b[1;33m(\u001b[0m\u001b[0mcall_context_key\u001b[0m\u001b[1;33m)\u001b[0m\u001b[1;33m\u001b[0m\u001b[1;33m\u001b[0m\u001b[0m\n\u001b[1;32m-> 3444\u001b[1;33m           \u001b[0mgraph_function\u001b[0m \u001b[1;33m=\u001b[0m \u001b[0mself\u001b[0m\u001b[1;33m.\u001b[0m\u001b[0m_create_graph_function\u001b[0m\u001b[1;33m(\u001b[0m\u001b[0margs\u001b[0m\u001b[1;33m,\u001b[0m \u001b[0mkwargs\u001b[0m\u001b[1;33m)\u001b[0m\u001b[1;33m\u001b[0m\u001b[1;33m\u001b[0m\u001b[0m\n\u001b[0m\u001b[0;32m   3445\u001b[0m           \u001b[0mself\u001b[0m\u001b[1;33m.\u001b[0m\u001b[0m_function_cache\u001b[0m\u001b[1;33m.\u001b[0m\u001b[0mprimary\u001b[0m\u001b[1;33m[\u001b[0m\u001b[0mcache_key\u001b[0m\u001b[1;33m]\u001b[0m \u001b[1;33m=\u001b[0m \u001b[0mgraph_function\u001b[0m\u001b[1;33m\u001b[0m\u001b[1;33m\u001b[0m\u001b[0m\n\u001b[0;32m   3446\u001b[0m \u001b[1;33m\u001b[0m\u001b[0m\n",
      "\u001b[1;32m~\\anaconda3\\envs\\abstract-painting\\lib\\site-packages\\tensorflow\\python\\eager\\function.py\u001b[0m in \u001b[0;36m_create_graph_function\u001b[1;34m(self, args, kwargs, override_flat_arg_shapes)\u001b[0m\n\u001b[0;32m   3277\u001b[0m     \u001b[0marg_names\u001b[0m \u001b[1;33m=\u001b[0m \u001b[0mbase_arg_names\u001b[0m \u001b[1;33m+\u001b[0m \u001b[0mmissing_arg_names\u001b[0m\u001b[1;33m\u001b[0m\u001b[1;33m\u001b[0m\u001b[0m\n\u001b[0;32m   3278\u001b[0m     graph_function = ConcreteFunction(\n\u001b[1;32m-> 3279\u001b[1;33m         func_graph_module.func_graph_from_py_func(\n\u001b[0m\u001b[0;32m   3280\u001b[0m             \u001b[0mself\u001b[0m\u001b[1;33m.\u001b[0m\u001b[0m_name\u001b[0m\u001b[1;33m,\u001b[0m\u001b[1;33m\u001b[0m\u001b[1;33m\u001b[0m\u001b[0m\n\u001b[0;32m   3281\u001b[0m             \u001b[0mself\u001b[0m\u001b[1;33m.\u001b[0m\u001b[0m_python_function\u001b[0m\u001b[1;33m,\u001b[0m\u001b[1;33m\u001b[0m\u001b[1;33m\u001b[0m\u001b[0m\n",
      "\u001b[1;32m~\\anaconda3\\envs\\abstract-painting\\lib\\site-packages\\tensorflow\\python\\framework\\func_graph.py\u001b[0m in \u001b[0;36mfunc_graph_from_py_func\u001b[1;34m(name, python_func, args, kwargs, signature, func_graph, autograph, autograph_options, add_control_dependencies, arg_names, op_return_value, collections, capture_by_value, override_flat_arg_shapes)\u001b[0m\n\u001b[0;32m    997\u001b[0m         \u001b[0m_\u001b[0m\u001b[1;33m,\u001b[0m \u001b[0moriginal_func\u001b[0m \u001b[1;33m=\u001b[0m \u001b[0mtf_decorator\u001b[0m\u001b[1;33m.\u001b[0m\u001b[0munwrap\u001b[0m\u001b[1;33m(\u001b[0m\u001b[0mpython_func\u001b[0m\u001b[1;33m)\u001b[0m\u001b[1;33m\u001b[0m\u001b[1;33m\u001b[0m\u001b[0m\n\u001b[0;32m    998\u001b[0m \u001b[1;33m\u001b[0m\u001b[0m\n\u001b[1;32m--> 999\u001b[1;33m       \u001b[0mfunc_outputs\u001b[0m \u001b[1;33m=\u001b[0m \u001b[0mpython_func\u001b[0m\u001b[1;33m(\u001b[0m\u001b[1;33m*\u001b[0m\u001b[0mfunc_args\u001b[0m\u001b[1;33m,\u001b[0m \u001b[1;33m**\u001b[0m\u001b[0mfunc_kwargs\u001b[0m\u001b[1;33m)\u001b[0m\u001b[1;33m\u001b[0m\u001b[1;33m\u001b[0m\u001b[0m\n\u001b[0m\u001b[0;32m   1000\u001b[0m \u001b[1;33m\u001b[0m\u001b[0m\n\u001b[0;32m   1001\u001b[0m       \u001b[1;31m# invariant: `func_outputs` contains only Tensors, CompositeTensors,\u001b[0m\u001b[1;33m\u001b[0m\u001b[1;33m\u001b[0m\u001b[1;33m\u001b[0m\u001b[0m\n",
      "\u001b[1;32m~\\anaconda3\\envs\\abstract-painting\\lib\\site-packages\\tensorflow\\python\\eager\\def_function.py\u001b[0m in \u001b[0;36mwrapped_fn\u001b[1;34m(*args, **kwds)\u001b[0m\n\u001b[0;32m    670\u001b[0m         \u001b[1;31m# the function a weak reference to itself to avoid a reference cycle.\u001b[0m\u001b[1;33m\u001b[0m\u001b[1;33m\u001b[0m\u001b[1;33m\u001b[0m\u001b[0m\n\u001b[0;32m    671\u001b[0m         \u001b[1;32mwith\u001b[0m \u001b[0mOptionalXlaContext\u001b[0m\u001b[1;33m(\u001b[0m\u001b[0mcompile_with_xla\u001b[0m\u001b[1;33m)\u001b[0m\u001b[1;33m:\u001b[0m\u001b[1;33m\u001b[0m\u001b[1;33m\u001b[0m\u001b[0m\n\u001b[1;32m--> 672\u001b[1;33m           \u001b[0mout\u001b[0m \u001b[1;33m=\u001b[0m \u001b[0mweak_wrapped_fn\u001b[0m\u001b[1;33m(\u001b[0m\u001b[1;33m)\u001b[0m\u001b[1;33m.\u001b[0m\u001b[0m__wrapped__\u001b[0m\u001b[1;33m(\u001b[0m\u001b[1;33m*\u001b[0m\u001b[0margs\u001b[0m\u001b[1;33m,\u001b[0m \u001b[1;33m**\u001b[0m\u001b[0mkwds\u001b[0m\u001b[1;33m)\u001b[0m\u001b[1;33m\u001b[0m\u001b[1;33m\u001b[0m\u001b[0m\n\u001b[0m\u001b[0;32m    673\u001b[0m         \u001b[1;32mreturn\u001b[0m \u001b[0mout\u001b[0m\u001b[1;33m\u001b[0m\u001b[1;33m\u001b[0m\u001b[0m\n\u001b[0;32m    674\u001b[0m \u001b[1;33m\u001b[0m\u001b[0m\n",
      "\u001b[1;32m~\\anaconda3\\envs\\abstract-painting\\lib\\site-packages\\tensorflow\\python\\framework\\func_graph.py\u001b[0m in \u001b[0;36mwrapper\u001b[1;34m(*args, **kwargs)\u001b[0m\n\u001b[0;32m    984\u001b[0m           \u001b[1;32mexcept\u001b[0m \u001b[0mException\u001b[0m \u001b[1;32mas\u001b[0m \u001b[0me\u001b[0m\u001b[1;33m:\u001b[0m  \u001b[1;31m# pylint:disable=broad-except\u001b[0m\u001b[1;33m\u001b[0m\u001b[1;33m\u001b[0m\u001b[0m\n\u001b[0;32m    985\u001b[0m             \u001b[1;32mif\u001b[0m \u001b[0mhasattr\u001b[0m\u001b[1;33m(\u001b[0m\u001b[0me\u001b[0m\u001b[1;33m,\u001b[0m \u001b[1;34m\"ag_error_metadata\"\u001b[0m\u001b[1;33m)\u001b[0m\u001b[1;33m:\u001b[0m\u001b[1;33m\u001b[0m\u001b[1;33m\u001b[0m\u001b[0m\n\u001b[1;32m--> 986\u001b[1;33m               \u001b[1;32mraise\u001b[0m \u001b[0me\u001b[0m\u001b[1;33m.\u001b[0m\u001b[0mag_error_metadata\u001b[0m\u001b[1;33m.\u001b[0m\u001b[0mto_exception\u001b[0m\u001b[1;33m(\u001b[0m\u001b[0me\u001b[0m\u001b[1;33m)\u001b[0m\u001b[1;33m\u001b[0m\u001b[1;33m\u001b[0m\u001b[0m\n\u001b[0m\u001b[0;32m    987\u001b[0m             \u001b[1;32melse\u001b[0m\u001b[1;33m:\u001b[0m\u001b[1;33m\u001b[0m\u001b[1;33m\u001b[0m\u001b[0m\n\u001b[0;32m    988\u001b[0m               \u001b[1;32mraise\u001b[0m\u001b[1;33m\u001b[0m\u001b[1;33m\u001b[0m\u001b[0m\n",
      "\u001b[1;31mValueError\u001b[0m: in user code:\n\n    C:\\Users\\Taylor Jensen\\anaconda3\\envs\\abstract-painting\\lib\\site-packages\\tensorflow\\python\\keras\\engine\\training.py:855 train_function  *\n        return step_function(self, iterator)\n    C:\\Users\\Taylor Jensen\\anaconda3\\envs\\abstract-painting\\lib\\site-packages\\tensorflow\\python\\keras\\engine\\training.py:845 step_function  **\n        outputs = model.distribute_strategy.run(run_step, args=(data,))\n    C:\\Users\\Taylor Jensen\\anaconda3\\envs\\abstract-painting\\lib\\site-packages\\tensorflow\\python\\distribute\\distribute_lib.py:1285 run\n        return self._extended.call_for_each_replica(fn, args=args, kwargs=kwargs)\n    C:\\Users\\Taylor Jensen\\anaconda3\\envs\\abstract-painting\\lib\\site-packages\\tensorflow\\python\\distribute\\distribute_lib.py:2833 call_for_each_replica\n        return self._call_for_each_replica(fn, args, kwargs)\n    C:\\Users\\Taylor Jensen\\anaconda3\\envs\\abstract-painting\\lib\\site-packages\\tensorflow\\python\\distribute\\distribute_lib.py:3608 _call_for_each_replica\n        return fn(*args, **kwargs)\n    C:\\Users\\Taylor Jensen\\anaconda3\\envs\\abstract-painting\\lib\\site-packages\\tensorflow\\python\\keras\\engine\\training.py:838 run_step  **\n        outputs = model.train_step(data)\n    C:\\Users\\Taylor Jensen\\anaconda3\\envs\\abstract-painting\\lib\\site-packages\\tensorflow\\python\\keras\\engine\\training.py:796 train_step\n        loss = self.compiled_loss(\n    C:\\Users\\Taylor Jensen\\anaconda3\\envs\\abstract-painting\\lib\\site-packages\\tensorflow\\python\\keras\\engine\\compile_utils.py:204 __call__\n        loss_value = loss_obj(y_t, y_p, sample_weight=sw)\n    C:\\Users\\Taylor Jensen\\anaconda3\\envs\\abstract-painting\\lib\\site-packages\\tensorflow\\python\\keras\\losses.py:155 __call__\n        losses = call_fn(y_true, y_pred)\n    C:\\Users\\Taylor Jensen\\anaconda3\\envs\\abstract-painting\\lib\\site-packages\\tensorflow\\python\\keras\\losses.py:259 call  **\n        return ag_fn(y_true, y_pred, **self._fn_kwargs)\n    C:\\Users\\Taylor Jensen\\anaconda3\\envs\\abstract-painting\\lib\\site-packages\\tensorflow\\python\\util\\dispatch.py:206 wrapper\n        return target(*args, **kwargs)\n    C:\\Users\\Taylor Jensen\\anaconda3\\envs\\abstract-painting\\lib\\site-packages\\tensorflow\\python\\keras\\losses.py:1215 mean_squared_error\n        return backend.mean(math_ops.squared_difference(y_pred, y_true), axis=-1)\n    C:\\Users\\Taylor Jensen\\anaconda3\\envs\\abstract-painting\\lib\\site-packages\\tensorflow\\python\\ops\\gen_math_ops.py:10421 squared_difference\n        _, _, _op, _outputs = _op_def_library._apply_op_helper(\n    C:\\Users\\Taylor Jensen\\anaconda3\\envs\\abstract-painting\\lib\\site-packages\\tensorflow\\python\\framework\\op_def_library.py:748 _apply_op_helper\n        op = g._create_op_internal(op_type_name, inputs, dtypes=None,\n    C:\\Users\\Taylor Jensen\\anaconda3\\envs\\abstract-painting\\lib\\site-packages\\tensorflow\\python\\framework\\func_graph.py:599 _create_op_internal\n        return super(FuncGraph, self)._create_op_internal(  # pylint: disable=protected-access\n    C:\\Users\\Taylor Jensen\\anaconda3\\envs\\abstract-painting\\lib\\site-packages\\tensorflow\\python\\framework\\ops.py:3557 _create_op_internal\n        ret = Operation(\n    C:\\Users\\Taylor Jensen\\anaconda3\\envs\\abstract-painting\\lib\\site-packages\\tensorflow\\python\\framework\\ops.py:2041 __init__\n        self._c_op = _create_c_op(self._graph, node_def, inputs,\n    C:\\Users\\Taylor Jensen\\anaconda3\\envs\\abstract-painting\\lib\\site-packages\\tensorflow\\python\\framework\\ops.py:1883 _create_c_op\n        raise ValueError(str(e))\n\n    ValueError: Dimensions must be equal, but are 712 and 720 for '{{node mean_squared_error/SquaredDifference}} = SquaredDifference[T=DT_FLOAT](sequential_2/conv2d_7/Relu, IteratorGetNext:1)' with input shapes: [?,712,472,3], [?,720,480,3].\n"
     ]
    }
   ],
   "source": [
    "#model.build(input_shape=[1,720,480,3])\n",
    "#model.summary()\n",
    "model.fit(x=data_32, y=data_32, epochs=10, batch_size=32)"
   ]
  },
  {
   "cell_type": "code",
   "execution_count": 15,
   "metadata": {},
   "outputs": [
    {
     "output_type": "stream",
     "name": "stdout",
     "text": [
      "Model: \"sequential_2\"\n_________________________________________________________________\nLayer (type)                 Output Shape              Param #   \n=================================================================\nconv2d_4 (Conv2D)            (None, 718, 478, 64)      1792      \n_________________________________________________________________\nmax_pooling2d_2 (MaxPooling2 (None, 359, 239, 64)      0         \n_________________________________________________________________\nconv2d_5 (Conv2D)            (None, 359, 239, 32)      18464     \n_________________________________________________________________\nmax_pooling2d_3 (MaxPooling2 (None, 179, 119, 32)      0         \n_________________________________________________________________\nconv2d_6 (Conv2D)            (None, 179, 119, 24)      6936      \n_________________________________________________________________\nmax_pooling2d_4 (MaxPooling2 (None, 89, 59, 24)        0         \n_________________________________________________________________\nconv2d_transpose_2 (Conv2DTr (None, 178, 118, 24)      5208      \n_________________________________________________________________\nconv2d_transpose_3 (Conv2DTr (None, 356, 236, 32)      6944      \n_________________________________________________________________\nconv2d_transpose_4 (Conv2DTr (None, 712, 472, 64)      18496     \n_________________________________________________________________\nconv2d_7 (Conv2D)            (None, 712, 472, 3)       1731      \n=================================================================\nTotal params: 59,571\nTrainable params: 59,571\nNon-trainable params: 0\n_________________________________________________________________\n"
     ]
    }
   ],
   "source": [
    "model.summary()"
   ]
  },
  {
   "cell_type": "code",
   "execution_count": 134,
   "metadata": {},
   "outputs": [],
   "source": [
    "result = model.predict(data_32)"
   ]
  },
  {
   "cell_type": "code",
   "execution_count": 135,
   "metadata": {},
   "outputs": [
    {
     "output_type": "execute_result",
     "data": {
      "text/plain": [
       "<matplotlib.image.AxesImage at 0x17bef41fe20>"
      ]
     },
     "metadata": {},
     "execution_count": 135
    },
    {
     "output_type": "display_data",
     "data": {
      "text/plain": "<Figure size 432x288 with 1 Axes>",
      "image/svg+xml": "<?xml version=\"1.0\" encoding=\"utf-8\" standalone=\"no\"?>\r\n<!DOCTYPE svg PUBLIC \"-//W3C//DTD SVG 1.1//EN\"\r\n  \"http://www.w3.org/Graphics/SVG/1.1/DTD/svg11.dtd\">\r\n<svg height=\"252.166344pt\" version=\"1.1\" viewBox=\"0 0 185.4475 252.166344\" width=\"185.4475pt\" xmlns=\"http://www.w3.org/2000/svg\" xmlns:xlink=\"http://www.w3.org/1999/xlink\">\r\n <metadata>\r\n  <rdf:RDF xmlns:cc=\"http://creativecommons.org/ns#\" xmlns:dc=\"http://purl.org/dc/elements/1.1/\" xmlns:rdf=\"http://www.w3.org/1999/02/22-rdf-syntax-ns#\">\r\n   <cc:Work>\r\n    <dc:type rdf:resource=\"http://purl.org/dc/dcmitype/StillImage\"/>\r\n    <dc:date>2021-05-31T17:06:05.485519</dc:date>\r\n    <dc:format>image/svg+xml</dc:format>\r\n    <dc:creator>\r\n     <cc:Agent>\r\n      <dc:title>Matplotlib v3.4.2, https://matplotlib.org/</dc:title>\r\n     </cc:Agent>\r\n    </dc:creator>\r\n   </cc:Work>\r\n  </rdf:RDF>\r\n </metadata>\r\n <defs>\r\n  <style type=\"text/css\">*{stroke-linecap:butt;stroke-linejoin:round;}</style>\r\n </defs>\r\n <g id=\"figure_1\">\r\n  <g id=\"patch_1\">\r\n   <path d=\"M 0 252.166344 \r\nL 185.4475 252.166344 \r\nL 185.4475 0 \r\nL 0 0 \r\nz\r\n\" style=\"fill:none;\"/>\r\n  </g>\r\n  <g id=\"axes_1\">\r\n   <g id=\"patch_2\">\r\n    <path d=\"M 33.2875 228.288219 \r\nL 178.2475 228.288219 \r\nL 178.2475 10.848219 \r\nL 33.2875 10.848219 \r\nz\r\n\" style=\"fill:#ffffff;\"/>\r\n   </g>\r\n   <g clip-path=\"url(#pb94c89a82a)\">\r\n    <image height=\"218\" id=\"image5ecb1ea377\" transform=\"scale(1 -1)translate(0 -218)\" width=\"145\" x=\"33.2875\" xlink:href=\"data:image/png;base64,\r\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\" y=\"-10.288219\"/>\r\n   </g>\r\n   <g id=\"matplotlib.axis_1\">\r\n    <g id=\"xtick_1\">\r\n     <g id=\"line2d_1\">\r\n      <defs>\r\n       <path d=\"M 0 0 \r\nL 0 3.5 \r\n\" id=\"mbb373e29c4\" style=\"stroke:#000000;stroke-width:0.8;\"/>\r\n      </defs>\r\n      <g>\r\n       <use style=\"stroke:#000000;stroke-width:0.8;\" x=\"33.4385\" xlink:href=\"#mbb373e29c4\" y=\"228.288219\"/>\r\n      </g>\r\n     </g>\r\n     <g id=\"text_1\">\r\n      <!-- 0 -->\r\n      <g transform=\"translate(30.25725 242.886656)scale(0.1 -0.1)\">\r\n       <defs>\r\n        <path d=\"M 2034 4250 \r\nQ 1547 4250 1301 3770 \r\nQ 1056 3291 1056 2328 \r\nQ 1056 1369 1301 889 \r\nQ 1547 409 2034 409 \r\nQ 2525 409 2770 889 \r\nQ 3016 1369 3016 2328 \r\nQ 3016 3291 2770 3770 \r\nQ 2525 4250 2034 4250 \r\nz\r\nM 2034 4750 \r\nQ 2819 4750 3233 4129 \r\nQ 3647 3509 3647 2328 \r\nQ 3647 1150 3233 529 \r\nQ 2819 -91 2034 -91 \r\nQ 1250 -91 836 529 \r\nQ 422 1150 422 2328 \r\nQ 422 3509 836 4129 \r\nQ 1250 4750 2034 4750 \r\nz\r\n\" id=\"DejaVuSans-30\" transform=\"scale(0.015625)\"/>\r\n       </defs>\r\n       <use xlink:href=\"#DejaVuSans-30\"/>\r\n      </g>\r\n     </g>\r\n    </g>\r\n    <g id=\"xtick_2\">\r\n     <g id=\"line2d_2\">\r\n      <g>\r\n       <use style=\"stroke:#000000;stroke-width:0.8;\" x=\"93.8385\" xlink:href=\"#mbb373e29c4\" y=\"228.288219\"/>\r\n      </g>\r\n     </g>\r\n     <g id=\"text_2\">\r\n      <!-- 200 -->\r\n      <g transform=\"translate(84.29475 242.886656)scale(0.1 -0.1)\">\r\n       <defs>\r\n        <path d=\"M 1228 531 \r\nL 3431 531 \r\nL 3431 0 \r\nL 469 0 \r\nL 469 531 \r\nQ 828 903 1448 1529 \r\nQ 2069 2156 2228 2338 \r\nQ 2531 2678 2651 2914 \r\nQ 2772 3150 2772 3378 \r\nQ 2772 3750 2511 3984 \r\nQ 2250 4219 1831 4219 \r\nQ 1534 4219 1204 4116 \r\nQ 875 4013 500 3803 \r\nL 500 4441 \r\nQ 881 4594 1212 4672 \r\nQ 1544 4750 1819 4750 \r\nQ 2544 4750 2975 4387 \r\nQ 3406 4025 3406 3419 \r\nQ 3406 3131 3298 2873 \r\nQ 3191 2616 2906 2266 \r\nQ 2828 2175 2409 1742 \r\nQ 1991 1309 1228 531 \r\nz\r\n\" id=\"DejaVuSans-32\" transform=\"scale(0.015625)\"/>\r\n       </defs>\r\n       <use xlink:href=\"#DejaVuSans-32\"/>\r\n       <use x=\"63.623047\" xlink:href=\"#DejaVuSans-30\"/>\r\n       <use x=\"127.246094\" xlink:href=\"#DejaVuSans-30\"/>\r\n      </g>\r\n     </g>\r\n    </g>\r\n    <g id=\"xtick_3\">\r\n     <g id=\"line2d_3\">\r\n      <g>\r\n       <use style=\"stroke:#000000;stroke-width:0.8;\" x=\"154.2385\" xlink:href=\"#mbb373e29c4\" y=\"228.288219\"/>\r\n      </g>\r\n     </g>\r\n     <g id=\"text_3\">\r\n      <!-- 400 -->\r\n      <g transform=\"translate(144.69475 242.886656)scale(0.1 -0.1)\">\r\n       <defs>\r\n        <path d=\"M 2419 4116 \r\nL 825 1625 \r\nL 2419 1625 \r\nL 2419 4116 \r\nz\r\nM 2253 4666 \r\nL 3047 4666 \r\nL 3047 1625 \r\nL 3713 1625 \r\nL 3713 1100 \r\nL 3047 1100 \r\nL 3047 0 \r\nL 2419 0 \r\nL 2419 1100 \r\nL 313 1100 \r\nL 313 1709 \r\nL 2253 4666 \r\nz\r\n\" id=\"DejaVuSans-34\" transform=\"scale(0.015625)\"/>\r\n       </defs>\r\n       <use xlink:href=\"#DejaVuSans-34\"/>\r\n       <use x=\"63.623047\" xlink:href=\"#DejaVuSans-30\"/>\r\n       <use x=\"127.246094\" xlink:href=\"#DejaVuSans-30\"/>\r\n      </g>\r\n     </g>\r\n    </g>\r\n   </g>\r\n   <g id=\"matplotlib.axis_2\">\r\n    <g id=\"ytick_1\">\r\n     <g id=\"line2d_4\">\r\n      <defs>\r\n       <path d=\"M 0 0 \r\nL -3.5 0 \r\n\" id=\"m34157e5cad\" style=\"stroke:#000000;stroke-width:0.8;\"/>\r\n      </defs>\r\n      <g>\r\n       <use style=\"stroke:#000000;stroke-width:0.8;\" x=\"33.2875\" xlink:href=\"#m34157e5cad\" y=\"10.999219\"/>\r\n      </g>\r\n     </g>\r\n     <g id=\"text_4\">\r\n      <!-- 0 -->\r\n      <g transform=\"translate(19.925 14.798437)scale(0.1 -0.1)\">\r\n       <use xlink:href=\"#DejaVuSans-30\"/>\r\n      </g>\r\n     </g>\r\n    </g>\r\n    <g id=\"ytick_2\">\r\n     <g id=\"line2d_5\">\r\n      <g>\r\n       <use style=\"stroke:#000000;stroke-width:0.8;\" x=\"33.2875\" xlink:href=\"#m34157e5cad\" y=\"41.199219\"/>\r\n      </g>\r\n     </g>\r\n     <g id=\"text_5\">\r\n      <!-- 100 -->\r\n      <g transform=\"translate(7.2 44.998437)scale(0.1 -0.1)\">\r\n       <defs>\r\n        <path d=\"M 794 531 \r\nL 1825 531 \r\nL 1825 4091 \r\nL 703 3866 \r\nL 703 4441 \r\nL 1819 4666 \r\nL 2450 4666 \r\nL 2450 531 \r\nL 3481 531 \r\nL 3481 0 \r\nL 794 0 \r\nL 794 531 \r\nz\r\n\" id=\"DejaVuSans-31\" transform=\"scale(0.015625)\"/>\r\n       </defs>\r\n       <use xlink:href=\"#DejaVuSans-31\"/>\r\n       <use x=\"63.623047\" xlink:href=\"#DejaVuSans-30\"/>\r\n       <use x=\"127.246094\" xlink:href=\"#DejaVuSans-30\"/>\r\n      </g>\r\n     </g>\r\n    </g>\r\n    <g id=\"ytick_3\">\r\n     <g id=\"line2d_6\">\r\n      <g>\r\n       <use style=\"stroke:#000000;stroke-width:0.8;\" x=\"33.2875\" xlink:href=\"#m34157e5cad\" y=\"71.399219\"/>\r\n      </g>\r\n     </g>\r\n     <g id=\"text_6\">\r\n      <!-- 200 -->\r\n      <g transform=\"translate(7.2 75.198437)scale(0.1 -0.1)\">\r\n       <use xlink:href=\"#DejaVuSans-32\"/>\r\n       <use x=\"63.623047\" xlink:href=\"#DejaVuSans-30\"/>\r\n       <use x=\"127.246094\" xlink:href=\"#DejaVuSans-30\"/>\r\n      </g>\r\n     </g>\r\n    </g>\r\n    <g id=\"ytick_4\">\r\n     <g id=\"line2d_7\">\r\n      <g>\r\n       <use style=\"stroke:#000000;stroke-width:0.8;\" x=\"33.2875\" xlink:href=\"#m34157e5cad\" y=\"101.599219\"/>\r\n      </g>\r\n     </g>\r\n     <g id=\"text_7\">\r\n      <!-- 300 -->\r\n      <g transform=\"translate(7.2 105.398437)scale(0.1 -0.1)\">\r\n       <defs>\r\n        <path d=\"M 2597 2516 \r\nQ 3050 2419 3304 2112 \r\nQ 3559 1806 3559 1356 \r\nQ 3559 666 3084 287 \r\nQ 2609 -91 1734 -91 \r\nQ 1441 -91 1130 -33 \r\nQ 819 25 488 141 \r\nL 488 750 \r\nQ 750 597 1062 519 \r\nQ 1375 441 1716 441 \r\nQ 2309 441 2620 675 \r\nQ 2931 909 2931 1356 \r\nQ 2931 1769 2642 2001 \r\nQ 2353 2234 1838 2234 \r\nL 1294 2234 \r\nL 1294 2753 \r\nL 1863 2753 \r\nQ 2328 2753 2575 2939 \r\nQ 2822 3125 2822 3475 \r\nQ 2822 3834 2567 4026 \r\nQ 2313 4219 1838 4219 \r\nQ 1578 4219 1281 4162 \r\nQ 984 4106 628 3988 \r\nL 628 4550 \r\nQ 988 4650 1302 4700 \r\nQ 1616 4750 1894 4750 \r\nQ 2613 4750 3031 4423 \r\nQ 3450 4097 3450 3541 \r\nQ 3450 3153 3228 2886 \r\nQ 3006 2619 2597 2516 \r\nz\r\n\" id=\"DejaVuSans-33\" transform=\"scale(0.015625)\"/>\r\n       </defs>\r\n       <use xlink:href=\"#DejaVuSans-33\"/>\r\n       <use x=\"63.623047\" xlink:href=\"#DejaVuSans-30\"/>\r\n       <use x=\"127.246094\" xlink:href=\"#DejaVuSans-30\"/>\r\n      </g>\r\n     </g>\r\n    </g>\r\n    <g id=\"ytick_5\">\r\n     <g id=\"line2d_8\">\r\n      <g>\r\n       <use style=\"stroke:#000000;stroke-width:0.8;\" x=\"33.2875\" xlink:href=\"#m34157e5cad\" y=\"131.799219\"/>\r\n      </g>\r\n     </g>\r\n     <g id=\"text_8\">\r\n      <!-- 400 -->\r\n      <g transform=\"translate(7.2 135.598437)scale(0.1 -0.1)\">\r\n       <use xlink:href=\"#DejaVuSans-34\"/>\r\n       <use x=\"63.623047\" xlink:href=\"#DejaVuSans-30\"/>\r\n       <use x=\"127.246094\" xlink:href=\"#DejaVuSans-30\"/>\r\n      </g>\r\n     </g>\r\n    </g>\r\n    <g id=\"ytick_6\">\r\n     <g id=\"line2d_9\">\r\n      <g>\r\n       <use style=\"stroke:#000000;stroke-width:0.8;\" x=\"33.2875\" xlink:href=\"#m34157e5cad\" y=\"161.999219\"/>\r\n      </g>\r\n     </g>\r\n     <g id=\"text_9\">\r\n      <!-- 500 -->\r\n      <g transform=\"translate(7.2 165.798437)scale(0.1 -0.1)\">\r\n       <defs>\r\n        <path d=\"M 691 4666 \r\nL 3169 4666 \r\nL 3169 4134 \r\nL 1269 4134 \r\nL 1269 2991 \r\nQ 1406 3038 1543 3061 \r\nQ 1681 3084 1819 3084 \r\nQ 2600 3084 3056 2656 \r\nQ 3513 2228 3513 1497 \r\nQ 3513 744 3044 326 \r\nQ 2575 -91 1722 -91 \r\nQ 1428 -91 1123 -41 \r\nQ 819 9 494 109 \r\nL 494 744 \r\nQ 775 591 1075 516 \r\nQ 1375 441 1709 441 \r\nQ 2250 441 2565 725 \r\nQ 2881 1009 2881 1497 \r\nQ 2881 1984 2565 2268 \r\nQ 2250 2553 1709 2553 \r\nQ 1456 2553 1204 2497 \r\nQ 953 2441 691 2322 \r\nL 691 4666 \r\nz\r\n\" id=\"DejaVuSans-35\" transform=\"scale(0.015625)\"/>\r\n       </defs>\r\n       <use xlink:href=\"#DejaVuSans-35\"/>\r\n       <use x=\"63.623047\" xlink:href=\"#DejaVuSans-30\"/>\r\n       <use x=\"127.246094\" xlink:href=\"#DejaVuSans-30\"/>\r\n      </g>\r\n     </g>\r\n    </g>\r\n    <g id=\"ytick_7\">\r\n     <g id=\"line2d_10\">\r\n      <g>\r\n       <use style=\"stroke:#000000;stroke-width:0.8;\" x=\"33.2875\" xlink:href=\"#m34157e5cad\" y=\"192.199219\"/>\r\n      </g>\r\n     </g>\r\n     <g id=\"text_10\">\r\n      <!-- 600 -->\r\n      <g transform=\"translate(7.2 195.998437)scale(0.1 -0.1)\">\r\n       <defs>\r\n        <path d=\"M 2113 2584 \r\nQ 1688 2584 1439 2293 \r\nQ 1191 2003 1191 1497 \r\nQ 1191 994 1439 701 \r\nQ 1688 409 2113 409 \r\nQ 2538 409 2786 701 \r\nQ 3034 994 3034 1497 \r\nQ 3034 2003 2786 2293 \r\nQ 2538 2584 2113 2584 \r\nz\r\nM 3366 4563 \r\nL 3366 3988 \r\nQ 3128 4100 2886 4159 \r\nQ 2644 4219 2406 4219 \r\nQ 1781 4219 1451 3797 \r\nQ 1122 3375 1075 2522 \r\nQ 1259 2794 1537 2939 \r\nQ 1816 3084 2150 3084 \r\nQ 2853 3084 3261 2657 \r\nQ 3669 2231 3669 1497 \r\nQ 3669 778 3244 343 \r\nQ 2819 -91 2113 -91 \r\nQ 1303 -91 875 529 \r\nQ 447 1150 447 2328 \r\nQ 447 3434 972 4092 \r\nQ 1497 4750 2381 4750 \r\nQ 2619 4750 2861 4703 \r\nQ 3103 4656 3366 4563 \r\nz\r\n\" id=\"DejaVuSans-36\" transform=\"scale(0.015625)\"/>\r\n       </defs>\r\n       <use xlink:href=\"#DejaVuSans-36\"/>\r\n       <use x=\"63.623047\" xlink:href=\"#DejaVuSans-30\"/>\r\n       <use x=\"127.246094\" xlink:href=\"#DejaVuSans-30\"/>\r\n      </g>\r\n     </g>\r\n    </g>\r\n    <g id=\"ytick_8\">\r\n     <g id=\"line2d_11\">\r\n      <g>\r\n       <use style=\"stroke:#000000;stroke-width:0.8;\" x=\"33.2875\" xlink:href=\"#m34157e5cad\" y=\"222.399219\"/>\r\n      </g>\r\n     </g>\r\n     <g id=\"text_11\">\r\n      <!-- 700 -->\r\n      <g transform=\"translate(7.2 226.198437)scale(0.1 -0.1)\">\r\n       <defs>\r\n        <path d=\"M 525 4666 \r\nL 3525 4666 \r\nL 3525 4397 \r\nL 1831 0 \r\nL 1172 0 \r\nL 2766 4134 \r\nL 525 4134 \r\nL 525 4666 \r\nz\r\n\" id=\"DejaVuSans-37\" transform=\"scale(0.015625)\"/>\r\n       </defs>\r\n       <use xlink:href=\"#DejaVuSans-37\"/>\r\n       <use x=\"63.623047\" xlink:href=\"#DejaVuSans-30\"/>\r\n       <use x=\"127.246094\" xlink:href=\"#DejaVuSans-30\"/>\r\n      </g>\r\n     </g>\r\n    </g>\r\n   </g>\r\n   <g id=\"patch_3\">\r\n    <path d=\"M 33.2875 228.288219 \r\nL 33.2875 10.848219 \r\n\" style=\"fill:none;stroke:#000000;stroke-linecap:square;stroke-linejoin:miter;stroke-width:0.8;\"/>\r\n   </g>\r\n   <g id=\"patch_4\">\r\n    <path d=\"M 178.2475 228.288219 \r\nL 178.2475 10.848219 \r\n\" style=\"fill:none;stroke:#000000;stroke-linecap:square;stroke-linejoin:miter;stroke-width:0.8;\"/>\r\n   </g>\r\n   <g id=\"patch_5\">\r\n    <path d=\"M 33.2875 228.288219 \r\nL 178.2475 228.288219 \r\n\" style=\"fill:none;stroke:#000000;stroke-linecap:square;stroke-linejoin:miter;stroke-width:0.8;\"/>\r\n   </g>\r\n   <g id=\"patch_6\">\r\n    <path d=\"M 33.2875 10.848219 \r\nL 178.2475 10.848219 \r\n\" style=\"fill:none;stroke:#000000;stroke-linecap:square;stroke-linejoin:miter;stroke-width:0.8;\"/>\r\n   </g>\r\n  </g>\r\n </g>\r\n <defs>\r\n  <clipPath id=\"pb94c89a82a\">\r\n   <rect height=\"217.44\" width=\"144.96\" x=\"33.2875\" y=\"10.848219\"/>\r\n  </clipPath>\r\n </defs>\r\n</svg>\r\n",
      "image/png": "[encoded data removed]"
     },
     "metadata": {
      "needs_background": "light"
     }
    }
   ],
   "source": [
    "plt.imshow(result[5])"
   ]
  },
  {
   "cell_type": "code",
   "execution_count": 101,
   "metadata": {},
   "outputs": [
    {
     "output_type": "execute_result",
     "data": {
      "text/plain": [
       "(720, 480, 3)"
      ]
     },
     "metadata": {},
     "execution_count": 101
    }
   ],
   "source": []
  }
 ]
}